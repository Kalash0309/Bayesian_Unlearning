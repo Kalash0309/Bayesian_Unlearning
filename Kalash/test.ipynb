{
 "cells": [
  {
   "cell_type": "code",
   "execution_count": 2,
   "metadata": {},
   "outputs": [
    {
     "data": {
      "text/plain": [
       "tensor([[0.0472, 0.4944, 0.1238],\n",
       "        [0.0472, 0.4944, 0.1238],\n",
       "        [0.0472, 0.4944, 0.1238],\n",
       "        [0.0472, 0.4944, 0.1238]])"
      ]
     },
     "execution_count": 2,
     "metadata": {},
     "output_type": "execute_result"
    }
   ],
   "source": [
    "import torch\n",
    "\n",
    "# Your list of tensors\n",
    "tensor_list = [torch.tensor([0.0472, 0.4944, 0.1238]),\n",
    "               torch.tensor([0.0472, 0.4944, 0.1238]),\n",
    "               torch.tensor([0.0472, 0.4944, 0.1238]),\n",
    "               torch.tensor([0.0472, 0.4944, 0.1238])]\n",
    "\n",
    "# convert list of tensors to 2d matrix\n",
    "tensor_matrix = torch.stack(tensor_list)\n",
    "tensor_matrix"
   ]
  },
  {
   "cell_type": "code",
   "execution_count": null,
   "metadata": {},
   "outputs": [],
   "source": []
  }
 ],
 "metadata": {
  "kernelspec": {
   "display_name": "Python 3",
   "language": "python",
   "name": "python3"
  },
  "language_info": {
   "codemirror_mode": {
    "name": "ipython",
    "version": 3
   },
   "file_extension": ".py",
   "mimetype": "text/x-python",
   "name": "python",
   "nbconvert_exporter": "python",
   "pygments_lexer": "ipython3",
   "version": "3.11.3"
  },
  "orig_nbformat": 4
 },
 "nbformat": 4,
 "nbformat_minor": 2
}
