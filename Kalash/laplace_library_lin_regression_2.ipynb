{
 "cells": [
  {
   "cell_type": "code",
   "execution_count": 32,
   "metadata": {},
   "outputs": [],
   "source": [
    "import torch\n",
    "import torch.nn as nn\n",
    "import torch.utils.data as data_utils\n",
    "import matplotlib.pyplot as plt\n",
    "import numpy as np\n",
    "from laplace.baselaplace import FullLaplace, BaseLaplace\n",
    "from laplace.curvature.backpack import BackPackGGN\n",
    "from laplace import Laplace, marglik_training"
   ]
  },
  {
   "cell_type": "code",
   "execution_count": 33,
   "metadata": {},
   "outputs": [],
   "source": [
    "def get_heteroscedastic_example(n_data=150,batch_size=150):\n",
    "    torch.manual_seed(42)\n",
    "    x_lin = torch.linspace(-1, 1, n_data)\n",
    "    x_train = x_lin.unsqueeze(-1)\n",
    "    f = lambda x: 0.5 * x**2 + 0.25 * x**3\n",
    "    eps = torch.randn(n_data) * (0.1 + 0.4 * x_lin)\n",
    "    y = f(x_lin) + eps\n",
    "    y_train = y.unsqueeze(-1)\n",
    "    train_loader_hetero = data_utils.DataLoader(\n",
    "        data_utils.TensorDataset(x_train, y_train), \n",
    "        batch_size=batch_size\n",
    "    )\n",
    "    x_test = torch.linspace(-1, 1, 500).unsqueeze(-1)\n",
    "    return x_train, y_train, train_loader_hetero, x_test"
   ]
  },
  {
   "cell_type": "code",
   "execution_count": 34,
   "metadata": {},
   "outputs": [],
   "source": [
    "def plot_data(X_train, y_train, X_test=None, y_test=None, samples=None):\n",
    "    plt.figure(figsize=(8, 5))\n",
    "    plt.scatter(X_train.numpy(), y_train.numpy())\n",
    "    if X_test is not None:\n",
    "        plt.plot(X_test.numpy(), y_test.numpy(), color='k')\n",
    "    if samples is not None:\n",
    "        plt.plot(X_test.numpy(), samples.numpy(), color='r', alpha=0.2)\n",
    "    plt.show()"
   ]
  },
  {
   "cell_type": "code",
   "execution_count": 35,
   "metadata": {},
   "outputs": [
    {
     "data": {
      "image/png": "[encoded data removed]",
      "text/plain": [
       "<Figure size 800x500 with 1 Axes>"
      ]
     },
     "metadata": {},
     "output_type": "display_data"
    }
   ],
   "source": [
    "x_train, y_train, train_loader_hetero, x_test = get_heteroscedastic_example(n_data=100, batch_size=100)\n",
    "\n",
    "plot_data(x_train, y_train)"
   ]
  },
  {
   "cell_type": "code",
   "execution_count": 36,
   "metadata": {},
   "outputs": [],
   "source": [
    "prior_mean_1 = -3\n",
    "prior_std_1 = 1\n",
    "prior_mean_0 = 2\n",
    "prior_std_0 = 1\n",
    "\n",
    "prior_dist_1 = torch.distributions.Normal(prior_mean_1, prior_std_1)\n",
    "prior_dist_0 = torch.distributions.Normal(prior_mean_0, prior_std_0)"
   ]
  },
  {
   "cell_type": "code",
   "execution_count": 44,
   "metadata": {},
   "outputs": [],
   "source": [
    "# define a simple linear regression model with the name LinearRegressionModel\n",
    "\n",
    "class LinearRegressionModel(torch.nn.Module):\n",
    "    def __init__(self):\n",
    "        super().__init__()\n",
    "        self.linear = torch.nn.Linear(1, 1)\n",
    "        \n",
    "    def forward(self, x):\n",
    "        return self.linear(x)\n",
    "    \n",
    "    def log_likelihood(self, x, y):\n",
    "        y_pred = self.forward(x).squeeze(-1)\n",
    "        return torch.distributions.Normal(y_pred, 0.01).log_prob(y).sum()\n",
    "    \n",
    "    def log_prior(self):\n",
    "        return prior_dist_1.log_prob(self.linear.weight).sum() + prior_dist_0.log_prob(self.linear.bias).sum()\n",
    "    \n",
    "    def log_posterior(self, x, y):\n",
    "        return self.log_likelihood(x, y) + self.log_prior()\n",
    "    "
   ]
  },
  {
   "cell_type": "code",
   "execution_count": 25,
   "metadata": {},
   "outputs": [],
   "source": [
    "class HeteroskedasticNN(torch.nn.Module):\n",
    "    def __init__(self):\n",
    "        super().__init__()\n",
    "        self.linear = torch.nn.Linear(1, 2)\n",
    "\n",
    "    def forward(self, x):\n",
    "        z = self.linear(x)\n",
    "        mu_hat = z[:, 0]\n",
    "        log_noise_std = z[:, 1]\n",
    "        return mu_hat, log_noise_std\n",
    "    \n",
    "    def log_likelihood(self, x, y):\n",
    "        mu_hat, log_noise_std = self.forward(x)\n",
    "        return torch.distributions.Normal(mu_hat, log_noise_std.exp()).log_prob(y).sum()\n",
    "    \n",
    "    def log_prior(self):\n",
    "        # print(self.linear.weight[0])\n",
    "        # print(self.linear.bias[0])\n",
    "        return prior_dist_1.log_prob(self.linear.weight[0]).sum() + prior_dist_0.log_prob(self.linear.bias[0]).sum()\n",
    "    \n",
    "    def log_posterior(self, x, y):\n",
    "        return self.log_likelihood(x, y) + self.log_prior()"
   ]
  },
  {
   "cell_type": "code",
   "execution_count": 45,
   "metadata": {},
   "outputs": [],
   "source": [
    "model = LinearRegressionModel()"
   ]
  },
  {
   "cell_type": "code",
   "execution_count": 26,
   "metadata": {},
   "outputs": [
    {
     "name": "stdout",
     "output_type": "stream",
     "text": [
      "Parameter containing:\n",
      "tensor([[ 0.1564],\n",
      "        [-0.8799]], requires_grad=True)\n",
      "Parameter containing:\n",
      "tensor([-0.4309, -0.5987], requires_grad=True)\n"
     ]
    }
   ],
   "source": [
    "model = HeteroskedasticNN()\n",
    "for param in model.parameters():\n",
    "    print(param)"
   ]
  },
  {
   "cell_type": "code",
   "execution_count": 46,
   "metadata": {},
   "outputs": [],
   "source": [
    "n_epochs = 1000\n",
    "\n",
    "criterion = torch.nn.MSELoss()\n",
    "optimizer = torch.optim.Adam(model.parameters(), lr=1e-2)\n",
    "for i in range(n_epochs):\n",
    "    for X, y in train_loader_hetero:\n",
    "        optimizer.zero_grad()\n",
    "        loss = -model.log_posterior(X,y)\n",
    "        loss.backward()\n",
    "        optimizer.step()\n"
   ]
  },
  {
   "cell_type": "code",
   "execution_count": 31,
   "metadata": {},
   "outputs": [
    {
     "name": "stdout",
     "output_type": "stream",
     "text": [
      "X:  tensor([[-1.0000],\n",
      "        [-0.9798],\n",
      "        [-0.9596],\n",
      "        [-0.9394],\n",
      "        [-0.9192],\n",
      "        [-0.8990],\n",
      "        [-0.8788],\n",
      "        [-0.8586],\n",
      "        [-0.8384],\n",
      "        [-0.8182],\n",
      "        [-0.7980],\n",
      "        [-0.7778],\n",
      "        [-0.7576],\n",
      "        [-0.7374],\n",
      "        [-0.7172],\n",
      "        [-0.6970],\n",
      "        [-0.6768],\n",
      "        [-0.6566],\n",
      "        [-0.6364],\n",
      "        [-0.6162],\n",
      "        [-0.5960],\n",
      "        [-0.5758],\n",
      "        [-0.5556],\n",
      "        [-0.5354],\n",
      "        [-0.5152],\n",
      "        [-0.4949],\n",
      "        [-0.4747],\n",
      "        [-0.4545],\n",
      "        [-0.4343],\n",
      "        [-0.4141],\n",
      "        [-0.3939],\n",
      "        [-0.3737],\n",
      "        [-0.3535],\n",
      "        [-0.3333],\n",
      "        [-0.3131],\n",
      "        [-0.2929],\n",
      "        [-0.2727],\n",
      "        [-0.2525],\n",
      "        [-0.2323],\n",
      "        [-0.2121],\n",
      "        [-0.1919],\n",
      "        [-0.1717],\n",
      "        [-0.1515],\n",
      "        [-0.1313],\n",
      "        [-0.1111],\n",
      "        [-0.0909],\n",
      "        [-0.0707],\n",
      "        [-0.0505],\n",
      "        [-0.0303],\n",
      "        [-0.0101],\n",
      "        [ 0.0101],\n",
      "        [ 0.0303],\n",
      "        [ 0.0505],\n",
      "        [ 0.0707],\n",
      "        [ 0.0909],\n",
      "        [ 0.1111],\n",
      "        [ 0.1313],\n",
      "        [ 0.1515],\n",
      "        [ 0.1717],\n",
      "        [ 0.1919],\n",
      "        [ 0.2121],\n",
      "        [ 0.2323],\n",
      "        [ 0.2525],\n",
      "        [ 0.2727],\n",
      "        [ 0.2929],\n",
      "        [ 0.3131],\n",
      "        [ 0.3333],\n",
      "        [ 0.3535],\n",
      "        [ 0.3737],\n",
      "        [ 0.3939],\n",
      "        [ 0.4141],\n",
      "        [ 0.4343],\n",
      "        [ 0.4545],\n",
      "        [ 0.4747],\n",
      "        [ 0.4949],\n",
      "        [ 0.5152],\n",
      "        [ 0.5354],\n",
      "        [ 0.5556],\n",
      "        [ 0.5758],\n",
      "        [ 0.5960],\n",
      "        [ 0.6162],\n",
      "        [ 0.6364],\n",
      "        [ 0.6566],\n",
      "        [ 0.6768],\n",
      "        [ 0.6970],\n",
      "        [ 0.7172],\n",
      "        [ 0.7374],\n",
      "        [ 0.7576],\n",
      "        [ 0.7778],\n",
      "        [ 0.7980],\n",
      "        [ 0.8182],\n",
      "        [ 0.8384],\n",
      "        [ 0.8586],\n",
      "        [ 0.8788],\n",
      "        [ 0.8990],\n",
      "        [ 0.9192],\n",
      "        [ 0.9394],\n",
      "        [ 0.9596],\n",
      "        [ 0.9798],\n",
      "        [ 1.0000]])\n",
      "y:  tensor([[-0.3281],\n",
      "        [-0.1893],\n",
      "        [-0.0162],\n",
      "        [ 0.8146],\n",
      "        [ 0.0467],\n",
      "        [ 0.5429],\n",
      "        [ 0.2273],\n",
      "        [ 0.6010],\n",
      "        [ 0.3811],\n",
      "        [-0.1769],\n",
      "        [ 0.2774],\n",
      "        [ 0.4812],\n",
      "        [ 0.3260],\n",
      "        [ 0.2807],\n",
      "        [ 0.3086],\n",
      "        [ 0.0219],\n",
      "        [-0.1288],\n",
      "        [ 0.1707],\n",
      "        [ 0.2149],\n",
      "        [ 0.0670],\n",
      "        [ 0.2296],\n",
      "        [-0.0225],\n",
      "        [ 0.0136],\n",
      "        [-0.0869],\n",
      "        [-0.0372],\n",
      "        [-0.0348],\n",
      "        [ 0.0311],\n",
      "        [-0.0294],\n",
      "        [ 0.0909],\n",
      "        [ 0.0653],\n",
      "        [ 0.0768],\n",
      "        [ 0.0142],\n",
      "        [ 0.1088],\n",
      "        [ 0.0753],\n",
      "        [ 0.0470],\n",
      "        [ 0.0071],\n",
      "        [ 0.0292],\n",
      "        [ 0.0283],\n",
      "        [ 0.0260],\n",
      "        [ 0.0084],\n",
      "        [-0.0195],\n",
      "        [ 0.0447],\n",
      "        [-0.0240],\n",
      "        [-0.0205],\n",
      "        [-0.0650],\n",
      "        [ 0.1390],\n",
      "        [-0.0861],\n",
      "        [-0.0377],\n",
      "        [-0.0799],\n",
      "        [-0.0631],\n",
      "        [ 0.0082],\n",
      "        [ 0.0594],\n",
      "        [-0.0574],\n",
      "        [ 0.1554],\n",
      "        [-0.1067],\n",
      "        [-0.0998],\n",
      "        [-0.2048],\n",
      "        [ 0.0181],\n",
      "        [ 0.0053],\n",
      "        [ 0.1396],\n",
      "        [ 0.0068],\n",
      "        [ 0.3860],\n",
      "        [-0.2022],\n",
      "        [ 0.3315],\n",
      "        [ 0.3630],\n",
      "        [ 0.2496],\n",
      "        [ 0.5824],\n",
      "        [ 0.1998],\n",
      "        [ 0.1694],\n",
      "        [ 0.0421],\n",
      "        [-0.1766],\n",
      "        [ 0.4646],\n",
      "        [ 0.0783],\n",
      "        [ 0.2913],\n",
      "        [ 0.1697],\n",
      "        [ 0.2973],\n",
      "        [ 0.3623],\n",
      "        [-0.0096],\n",
      "        [-0.5153],\n",
      "        [-0.0236],\n",
      "        [ 0.2521],\n",
      "        [ 0.1468],\n",
      "        [-0.1999],\n",
      "        [ 0.0895],\n",
      "        [ 0.5702],\n",
      "        [ 0.5750],\n",
      "        [ 0.7935],\n",
      "        [ 0.2142],\n",
      "        [ 0.1411],\n",
      "        [ 0.6862],\n",
      "        [ 0.5519],\n",
      "        [ 0.3431],\n",
      "        [ 0.6443],\n",
      "        [ 1.1307],\n",
      "        [ 0.5851],\n",
      "        [ 0.4746],\n",
      "        [ 0.1792],\n",
      "        [ 0.7410],\n",
      "        [ 0.8873],\n",
      "        [ 1.0586]])\n"
     ]
    }
   ],
   "source": [
    "for X,y in train_loader_hetero:\n",
    "    print(\"X: \",X)\n",
    "    print(\"y: \",y)\n",
    "    # print(model.log_posterior(X,y))\n",
    "    # break"
   ]
  },
  {
   "cell_type": "code",
   "execution_count": 28,
   "metadata": {},
   "outputs": [
    {
     "name": "stdout",
     "output_type": "stream",
     "text": [
      "Parameter containing:\n",
      "tensor([[-7.5611e-05],\n",
      "        [-6.0768e-08]], requires_grad=True)\n",
      "Parameter containing:\n",
      "tensor([ 0.1720, -1.2284], requires_grad=True)\n"
     ]
    }
   ],
   "source": [
    "for param in model.parameters():\n",
    "    print(param)"
   ]
  },
  {
   "cell_type": "code",
   "execution_count": 47,
   "metadata": {},
   "outputs": [],
   "source": [
    "la_hetero = Laplace(model, 'regression', subset_of_weights='all', hessian_structure='full')\n",
    "la_hetero.fit(train_loader_hetero)"
   ]
  },
  {
   "cell_type": "code",
   "execution_count": 48,
   "metadata": {},
   "outputs": [],
   "source": [
    "def plot_regression(X_train, y_train, X_test, f_test, y_std, plot=True, \n",
    "                    file_name='regression_example'):\n",
    "    fig, (ax1, ax2) = plt.subplots(nrows=1, ncols=2, sharey=True,\n",
    "                                figsize=(8, 4))\n",
    "    ax1.set_title('MAP')\n",
    "    ax1.scatter(X_train.flatten(), y_train.flatten(), alpha=0.3, color='tab:orange')\n",
    "    ax1.plot(X_test, f_test, color='black', label='$f_{MAP}$')\n",
    "    ax1.legend()\n",
    "\n",
    "    ax2.set_title('LA')\n",
    "    ax2.scatter(X_train.flatten(), y_train.flatten(), alpha=0.3, color='tab:orange')\n",
    "    ax2.plot(X_test, f_test, label='$\\mathbb{E}[f]$')\n",
    "    ax2.fill_between(X_test, f_test-y_std*2, f_test+y_std*2, \n",
    "                     alpha=0.3, color='tab:blue', label='$2\\sqrt{\\mathbb{V}\\,[y]}$')\n",
    "    ax2.legend()\n",
    "    # ax1.set_ylim([0, 30])\n",
    "    ax1.set_xlim([X_test.min(), X_test.max()])\n",
    "    ax2.set_xlim([X_test.min(), X_test.max()])\n",
    "    ax1.set_ylabel('$y$')\n",
    "    ax1.set_xlabel('$x$')\n",
    "    ax2.set_xlabel('$x$')\n",
    "    plt.tight_layout()\n",
    "    if plot:\n",
    "        plt.show()"
   ]
  },
  {
   "cell_type": "code",
   "execution_count": 49,
   "metadata": {},
   "outputs": [
    {
     "data": {
      "image/png": "[encoded data removed]",
      "text/plain": [
       "<Figure size 800x400 with 2 Axes>"
      ]
     },
     "metadata": {},
     "output_type": "display_data"
    }
   ],
   "source": [
    "x = x_test.flatten().cpu().numpy()\n",
    "f_mu, f_var = la_hetero(x_test)\n",
    "f_mu = f_mu.squeeze().detach().cpu().numpy()\n",
    "f_sigma = f_var.squeeze().sqrt().cpu().numpy()\n",
    "pred_std = np.sqrt(f_sigma**2 + la_hetero.sigma_noise.item()**2)\n",
    "\n",
    "plot_regression(x_train, y_train, x, f_mu, pred_std)"
   ]
  },
  {
   "cell_type": "code",
   "execution_count": null,
   "metadata": {},
   "outputs": [],
   "source": []
  }
 ],
 "metadata": {
  "kernelspec": {
   "display_name": "Python 3",
   "language": "python",
   "name": "python3"
  },
  "language_info": {
   "codemirror_mode": {
    "name": "ipython",
    "version": 3
   },
   "file_extension": ".py",
   "mimetype": "text/x-python",
   "name": "python",
   "nbconvert_exporter": "python",
   "pygments_lexer": "ipython3",
   "version": "3.11.3"
  },
  "orig_nbformat": 4
 },
 "nbformat": 4,
 "nbformat_minor": 2
}
